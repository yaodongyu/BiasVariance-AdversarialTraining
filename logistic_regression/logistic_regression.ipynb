{
 "cells": [
  {
   "cell_type": "code",
   "execution_count": null,
   "metadata": {},
   "outputs": [],
   "source": [
    "import sys\n",
    "import matplotlib.pyplot as plt\n",
    "from logistic_regression import *"
   ]
  },
  {
   "cell_type": "code",
   "execution_count": null,
   "metadata": {},
   "outputs": [],
   "source": [
    "d = 100\n",
    "n = 100\n",
    "sigma = 0.7\n",
    "\n",
    "# building X, y matrix\n",
    "num_test_sample = 1000\n",
    "data = Mixture(d, sigma)\n",
    "X, y = data.generate_sample(num_test_sample)\n",
    "X = X.T"
   ]
  },
  {
   "cell_type": "code",
   "execution_count": null,
   "metadata": {},
   "outputs": [],
   "source": [
    "num_trial = 3\n",
    "eps  = np.arange(0, 1, 0.05)\n",
    "b_ls = np.zeros((num_trial, len(eps)))\n",
    "v_ls = np.zeros((num_trial, len(eps)))\n",
    "r_ls = np.zeros((num_trial, len(eps)))\n",
    "tr_error_ls = np.zeros((num_trial, len(eps)))\n",
    "\n",
    "\n",
    "for j in range(num_trial):\n",
    "    print(j)\n",
    "    for i in range(len(eps)):\n",
    "        epsilon = eps[i]\n",
    "        b_ls[j, i], v_ls[j, i], _, tr_error_ls[j, i], _ = compute_bv(d, n, sigma, eps[i], X, y, j+1)\n",
    "        r_ls[j, i] = b_ls[j, i] + v_ls[j, i]"
   ]
  },
  {
   "cell_type": "code",
   "execution_count": null,
   "metadata": {},
   "outputs": [],
   "source": [
    "plt.figure(num=None, figsize=(8, 6), dpi=80, facecolor='w', edgecolor='k')\n",
    "\n",
    "cv = np.std(v_ls, 0)\n",
    "plt.fill_between(eps, np.mean(v_ls, 0)-cv, np.mean(v_ls, 0)+cv, color='orangered', alpha=.1)\n",
    "plt.plot(eps, np.mean(v_ls, 0), '-d', color='orangered', label = \"Variance\", linewidth=2.5, markeredgecolor='k', markersize=6)\n",
    "\n",
    "cb = np.std(b_ls, 0)\n",
    "plt.fill_between(eps, np.mean(b_ls, 0)-cb, np.mean(b_ls, 0)+cb, color='royalblue', alpha=.1)\n",
    "plt.plot(eps, np.mean(b_ls, 0), '-o', color='royalblue', label = \"Bias\", linewidth=2.5, markeredgecolor='k', markersize=6)\n",
    "\n",
    "plt.axhline(y=0.0, color='black', linestyle='--')\n",
    "\n",
    "plt.xlabel('Adversarial Training EPS', fontsize=17)\n",
    "plt.legend(loc='best', prop={\"size\": 15}, framealpha=0.5)\n",
    "plt.tight_layout()\n",
    "plt.show()"
   ]
  },
  {
   "cell_type": "code",
   "execution_count": null,
   "metadata": {},
   "outputs": [],
   "source": [
    "plt.figure(num=None, figsize=(8, 6), dpi=80, facecolor='w', edgecolor='k')\n",
    "\n",
    "cer = np.std(tr_error_ls, 0)\n",
    "plt.fill_between(eps, np.mean(tr_error_ls, 0)-cer, np.mean(tr_error_ls, 0)+cer, color='forestgreen', alpha=.1)\n",
    "plt.plot(eps, np.mean(tr_error_ls, 0), '-s', color='forestgreen', label = \"Training Error\", linewidth=2.5, markeredgecolor='k', markersize=6)\n",
    "plt.axhline(y=0.0, color='black', linestyle='--')\n",
    "plt.ylabel('Error (%)', fontsize=17)\n",
    "plt.xlabel('Adversarial Training EPS', fontsize=17)\n",
    "plt.legend(loc='best', prop={\"size\": 15}, framealpha=0.5)\n",
    "plt.tight_layout()\n",
    "plt.show()"
   ]
  }
 ],
 "metadata": {
  "kernelspec": {
   "display_name": "Python 3",
   "language": "python",
   "name": "python3"
  },
  "language_info": {
   "codemirror_mode": {
    "name": "ipython",
    "version": 3
   },
   "file_extension": ".py",
   "mimetype": "text/x-python",
   "name": "python",
   "nbconvert_exporter": "python",
   "pygments_lexer": "ipython3",
   "version": "3.8.3"
  }
 },
 "nbformat": 4,
 "nbformat_minor": 4
}
