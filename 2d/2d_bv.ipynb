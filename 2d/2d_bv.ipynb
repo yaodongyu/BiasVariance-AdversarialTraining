{
 "cells": [
  {
   "cell_type": "code",
   "execution_count": null,
   "metadata": {},
   "outputs": [],
   "source": [
    "import sys\n",
    "from utlis_func import *\n",
    "\n",
    "%matplotlib inline\n",
    "seaborn.set(font_scale=2)\n",
    "seaborn.set_style(\"white\")"
   ]
  },
  {
   "cell_type": "code",
   "execution_count": null,
   "metadata": {},
   "outputs": [],
   "source": [
    "# random points at least 2r apart\n",
    "n = 15\n",
    "num_test = 10000\n",
    "# define margin\n",
    "margin = 0.25"
   ]
  },
  {
   "cell_type": "code",
   "execution_count": null,
   "metadata": {},
   "outputs": [],
   "source": [
    "X_test, y_test = generate_sample(num_test, margin)\n",
    "visualize_data(X_test, y_test, margin)"
   ]
  },
  {
   "cell_type": "markdown",
   "metadata": {},
   "source": [
    "## Plotting for different ep"
   ]
  },
  {
   "cell_type": "code",
   "execution_count": null,
   "metadata": {},
   "outputs": [],
   "source": [
    "num_trial = 30\n",
    "eps = np.linspace(0, margin*2, 10*2)\n",
    "b_ls = np.zeros((num_trial, len(eps)))\n",
    "v_ls = np.zeros((num_trial, len(eps)))\n",
    "r_ls = np.zeros((num_trial, len(eps)))\n",
    "nets0 = {}\n",
    "nets1 = {}\n",
    "for j in range(num_trial):\n",
    "    X_0, y_0 = generate_sample(n, margin)\n",
    "    X_1, y_1 = generate_sample(n, margin)\n",
    "\n",
    "    for i in range(len(eps)):\n",
    "        epsilon = eps[i]\n",
    "        robust_net_0 = robust_train(X_0, y_0, epsilon, seed=1)\n",
    "        robust_net_1 = robust_train(X_1, y_1, epsilon, seed=2)\n",
    "        nets0[(j, i)] = robust_net_0\n",
    "        nets1[(j, i)] = robust_net_1\n",
    "        b, v, r = BV_compute(robust_net_0, robust_net_1, X_test, y_test)\n",
    "        b_ls[j,i] = b\n",
    "        v_ls[j,i] = v\n",
    "        r_ls[j,i] = r\n",
    "        print('finished eps={}'.format(eps[i]))\n",
    "        print('============================================================')"
   ]
  },
  {
   "cell_type": "code",
   "execution_count": null,
   "metadata": {},
   "outputs": [],
   "source": [
    "plt.figure(num=None, figsize=(8, 6), dpi=80, facecolor='w', edgecolor='k')\n",
    "\n",
    "vp_ls = v_ls[:,:10]\n",
    "bp_ls = b_ls[:,:10]\n",
    "rp_ls = r_ls[:,:10]\n",
    "eps = eps[:10]\n",
    "cv = 0.6*np.std(vp_ls, 0)\n",
    "plt.fill_between(eps, np.mean(vp_ls, 0)-cv, np.mean(vp_ls, 0)+cv, color='orangered', alpha=.1)\n",
    "plt.plot(eps, np.mean(vp_ls, 0), '-d', color='orangered', label = \"Variance\", linewidth=2.5, markeredgecolor='k', markersize=6)\n",
    "\n",
    "cb = 0.6*np.std(bp_ls, 0)\n",
    "plt.fill_between(eps, np.mean(bp_ls, 0)-cb, np.mean(bp_ls, 0)+cb, color='royalblue', alpha=.1)\n",
    "plt.plot(eps, np.mean(bp_ls, 0), '-o', color='royalblue', label = \"Bias\", linewidth=2.5, markeredgecolor='k', markersize=6)\n",
    "\n",
    "cr = 0.6*np.std(rp_ls, 0)\n",
    "plt.fill_between(eps, np.mean(rp_ls, 0)-cr, np.mean(rp_ls, 0)+cr, color='forestgreen', alpha=.1)\n",
    "plt.plot(eps, np.mean(rp_ls, 0), '-s', color='forestgreen', label = \"Risk\", linewidth=2.5, markeredgecolor='k', markersize=6)\n",
    "\n",
    "plt.axhline(y=0.0, color='black', linestyle='--')\n",
    "plt.axhline(y=np.mean(vp_ls, 0)[0], color='black', linestyle=':')\n",
    "\n",
    "plt.ylabel('Bias/Variance/Risk', fontsize=17)\n",
    "plt.xlabel('Adversarial Training EPS (PGD)', fontsize=17)\n",
    "plt.legend(loc='best', prop={\"size\": 15}, framealpha=0.5)\n",
    "plt.tight_layout()\n",
    "plt.show()"
   ]
  },
  {
   "cell_type": "code",
   "execution_count": null,
   "metadata": {},
   "outputs": [],
   "source": []
  }
 ],
 "metadata": {
  "kernelspec": {
   "display_name": "Python 3",
   "language": "python",
   "name": "python3"
  },
  "language_info": {
   "codemirror_mode": {
    "name": "ipython",
    "version": 3
   },
   "file_extension": ".py",
   "mimetype": "text/x-python",
   "name": "python",
   "nbconvert_exporter": "python",
   "pygments_lexer": "ipython3",
   "version": "3.8.3"
  }
 },
 "nbformat": 4,
 "nbformat_minor": 4
}
